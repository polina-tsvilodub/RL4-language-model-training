{
 "cells": [
  {
   "cell_type": "markdown",
   "metadata": {},
   "source": [
    "# Homework 3\n",
    "\n",
    "The learning goals for the final hands-on sheet is to practice critical and creative thinking around LLMs and gain some practical experience with the concepts we discussed throughout the recent sessions in class. In particular, the exercise will focus on:\n",
    "* thinking about potential cultural and linguistic biases that LLMs might exhibit,\n",
    "* using RL fine-tuning within common packages,\n",
    "* using LLMs as \"agents\", equipped with various tools within larger systems.\n",
    "\n",
    "**Please note the somewhat updated homework submission format (see logistics below)!**\n",
    "\n",
    "Again, the homework is intended to showcase important practical aspects, further conceptual understanding of the topics we discuss in class and provide practical tools and exercise for your own future work. \n",
    "It is *not* meant to dismay you. Therefore, even if you don't have a lot of ML / programming / technical background, you are warmly encouraged to take on the tasks, ask questions and discuss any concerns you have (with fellow students or me). There are also some hints and links to resources throughout the tasks which may help you get information which will help solving the tasks. \n"
   ]
  },
  {
   "cell_type": "markdown",
   "metadata": {},
   "source": [
    "### Homework logistics\n",
    "\n",
    "* You will have a bit more than two weeks to complete the assignment (**until Wednesday, February 11th, 6pm German time**).\n",
    "* **Please do and submit your homework by yourself!**\n",
    "* However, you are warmly encouraged to ask questions and help each other, without posting full solutions, via active discussions in the dedicated Forum space on Moodle (\"Homework 3\"). Most active participants of the Forum discussions will earn some extra points for their grade!\n",
    "* Please submit your solutions via Moodle. You will find an assignment called \"Homework 3\". **Please copy this page of the webbook as a notebook and submit the whole notebook with your solutions. Please name your noteboook <Surname_Name_HW3.ipynb>.** There are no further questions on Moodle (i.e., this page contains all tasks). \n",
    "* If you have questions or difficulties with the homework, please try to solve them with the help of your fellow students via Forum. However, don't hesitate to reach out to me via email if you have any questions, struggle or feel overwhelmed."
   ]
  },
  {
   "cell_type": "markdown",
   "metadata": {},
   "source": [
    "## Preliminaries\n",
    "\n",
    "The exercises below will require you to execute Python code. You can do so either on your own machine, or by using [Google Colab](https://colab.research.google.com/) (free, only requires a Google account). You can easily do the latter by pressing the Colab icon at the top of the webook's page.\n",
    "You are encouraged to use the Colab option to avoid complications with local package installations etc.\n",
    "To speed up the execution of the code on Colab (especially Exercise 2), you can use the available GPU. For that, before executing your code, navigate to Runtime > Change runtime type > GPU > Save.\n",
    "\n",
    "However, if you do want to run the code locally on your machine, I strongly encourage you to create an environment (e.g., with Conda) before you install any dependencies, and please keep in mind that pretrained language model weights might take up quite a bit of space on your hard drive or might require high RAM for prediction. \n",
    "\n",
    "Note that the class uses PyTorch. For those of you who wish to complete final projects which include programming, you are also free to use TensorFlow for that (but I may be able to provide less support with that)."
   ]
  },
  {
   "cell_type": "markdown",
   "metadata": {},
   "source": [
    "## Exercise 1 (15 points)\n",
    "\n",
    "In this exercise, we will consider aspects of LLM performance which may have social implications, e.g., we will consider possible biases as well as try to understand which cultures maybe (under)represented by available LLMs. The goal of this task is to construct your own test vignette (i.e., a test item that roughly looks like the items in the ETHICS dataset that we saw in class) for investigating cultural biases of LLMs.\n",
    "\n",
    "The task is to come up with an example test prompt (e.g., informed by your cultural background or exposure) which contains multiple-choice responses where one response would be more acceptable under one particular cultural lense and another response under a different cultural background. \n",
    "\n",
    "**Simple example:** (possible variation in italics, explanations in parentheses)\n",
    "\n",
    "You are at a *German* / *American* supermarket. You walk up to the cashier and greet them by saying:\n",
    "* A. Hello. (more likely in Germany appropiate)\n",
    "* B. Buy. (generally inappropriate response)\n",
    "* C. Hello, how are you? (more likely in the US, people usually don't ask strangers 'how are you' in Germany)\n",
    "  \n",
    "I would say A / B / C.\n",
    "\n",
    "----------\n",
    "\n",
    "Once you have constructed your example, you will compare outputs of a model which was trained mainly on English data to the output of a multi-lingual model. \n",
    "\n",
    "Your task is to:\n",
    "* Formulate a prompt which describes a common situation which, ideally, is associated with typical behavior or responses in one culture. Then, try to think about possible variations of cultural background where people would behave / respond differently in the same situation (see example above). The varying cultural background should be included as a description in the prompt (feel free to experiment with different ways to introduce it). Different behaviors / responses should be provided as labeled (e.g., A-C) mutliple choice answer options. \n",
    "* Run the prompt and the variations through the two LLMs below and check which response is more likely under which variation by using the code snippet below. \n",
    "  * `bigscience/bloom-1b7`: multilingual LLM\n",
    "  * `meta-llama/llama-2-7b-chat`: mostly English fRL-tuned LLMs (instructions for loading the model on Colab are in the final projects document)\n",
    "* Brainstorm two possible variations of this little test which might affect the LLM's performance\n",
    "* Fill in your solutions below."
   ]
  },
  {
   "cell_type": "code",
   "execution_count": null,
   "metadata": {},
   "outputs": [],
   "source": [
    "# note: if you are running the code on Colab, you may need to install the HuggingFace 'transformers' library\n",
    "# for that, uncomment and run the following line:\n",
    "\n",
    "# !pip install transformers trl datasets evaluate nltk"
   ]
  },
  {
   "cell_type": "code",
   "execution_count": null,
   "metadata": {},
   "outputs": [],
   "source": [
    "# import libraries\n",
    "from transformers import (\n",
    "    AutoTokenizer, \n",
    "    AutoModelForCausalLM\n",
    ")\n",
    "import torch\n",
    "from datasets import (\n",
    "    load_dataset,\n",
    "    Dataset\n",
    ")\n",
    "from trl import AutoModelForCausalLMWithValueHead, PPOConfig, PPOTrainer\n",
    "import evaluate"
   ]
  },
  {
   "cell_type": "code",
   "execution_count": null,
   "metadata": {},
   "outputs": [],
   "source": [
    "def get_log_prob_of_completion(\n",
    "        model,\n",
    "        tokenizer,\n",
    "        prompt,\n",
    "        completion,\n",
    "        device=torch.device(\"cuda\") if torch.cuda.is_available() else torch.device(\"cpu\")\n",
    "):\n",
    "        \"\"\"\n",
    "        Convenience function for computing the log probability of a completion\n",
    "        given a prompt. \n",
    "        \"\"\"\n",
    "        # tokenize the prompt and the completion \n",
    "        # truncate so as to fit into to maximal context window of gpt-2\n",
    "        # which is 1024 tokens\n",
    "        input_ids = tokenizer( \n",
    "                prompt + completion,\n",
    "                return_tensors='pt',\n",
    "                truncation=True,\n",
    "                max_length=1024,\n",
    "        )['input_ids'].to(device)  \n",
    "        \n",
    "        # separately tokenize prompt\n",
    "        # so as to access the logits for the completion only\n",
    "        # when scoring the completion\n",
    "        input_ids_prompt = tokenizer( \n",
    "                prompt,\n",
    "                return_tensors='pt',\n",
    "                truncation=True,\n",
    "                max_length=1024\n",
    "        )['input_ids'].to(device) \n",
    "\n",
    "        # create attention mask and position ids\n",
    "        attention_mask = (input_ids != tokenizer.eos_token_id).to(dtype=torch.int64)\n",
    "        position_ids = attention_mask.cumsum(-1)-1\n",
    "        # get the logits for the completion\n",
    "        with torch.no_grad():\n",
    "                out = model(\n",
    "                        input_ids=input_ids,\n",
    "                        attention_mask=attention_mask,\n",
    "                        position_ids=position_ids\n",
    "                )\n",
    "\n",
    "        # get the logits of the completion\n",
    "        # for that, make a tensor of the logits\n",
    "        # for the completion only\n",
    "        # in particular, we shift the indices by one to the left to access logits of the \n",
    "        # actual sequence tokens\n",
    "        logits_completion = out.logits[:, :-1]\n",
    "        logits_completion = logits_completion.squeeze()\n",
    "        # get the log probabilities for the completion\n",
    "        log_probs = torch.nn.functional.log_softmax(\n",
    "                logits_completion,\n",
    "                dim=-1\n",
    "        )\n",
    "        # retrieve the logit corresponding to the actual completion tokens\n",
    "        try:\n",
    "                log_completion_tokens = log_probs.gather(\n",
    "                        dim=-1, \n",
    "                        index=input_ids[:, 1:].squeeze().unsqueeze(-1)\n",
    "                )\n",
    "        except:\n",
    "                log_completion_tokens = log_probs.gather(\n",
    "                        dim=-1, \n",
    "                        index=input_ids[:, 1:].unsqueeze(-1)\n",
    "                )\n",
    "\n",
    "        continuationConditionalLogProbs = log_completion_tokens[\n",
    "                (input_ids_prompt.shape[-1]-1):\n",
    "        ]\n",
    "        completion_log_prob = torch.mean(\n",
    "                continuationConditionalLogProbs\n",
    "        ).cpu()\n",
    "        \n",
    "        return completion_log_prob"
   ]
  },
  {
   "cell_type": "code",
   "execution_count": null,
   "metadata": {},
   "outputs": [],
   "source": [
    "tokenizer = AutoTokenizer.from_pretrained(#### YOUR CODE HERE ####)\n",
    "model = AutoModelForCausalLM.from_pretrained(#### YOUR CODE HERE ####)\n",
    "\n",
    "#### NB:YOUR CODE FOR LLAMA HERE will be a bit different for running on Colab (see pdf document on final projects) ####\n",
    "    \n",
    "device = torch.device(\"cuda\") if torch.cuda.is_available() else torch.device(\"cpu\")\n",
    "\n",
    "model.eval()\n",
    "model.to(device)\n"
   ]
  },
  {
   "cell_type": "code",
   "execution_count": null,
   "metadata": {},
   "outputs": [],
   "source": [
    "#### YOUR CODE HERE ####\n",
    "# reuse the code from exercise 3 of HW 2 to retrieve likelihoods of different responses of your test item \n",
    "# for the different contexts, under the two different models, e.g.:\n",
    "log_prob_opt_option_A = get_log_prob_of_completion(\n",
    "    model=,\n",
    "    tokenizer=,\n",
    "    prompt=,\n",
    "    completion=,\n",
    ")\n",
    "#### YOUR CODE HERE for retrieving more likelihoods ####\n",
    "# ...."
   ]
  },
  {
   "cell_type": "markdown",
   "metadata": {},
   "source": [
    "#### Your response\n",
    "\n",
    "**Your prompt** (with explanation of expected responses in respective cultural variations): ...\n",
    "\n",
    "**Your model likelihoods:**\n",
    "\n",
    "| Option + Context / Model | OPT | Llama |\n",
    "|------|----------|------------|\n",
    "|Ger + A | ... | ...|\n",
    "|US + A | ... | ... |\n",
    "|... | ... | ...|\n",
    "\n",
    "**Your conclusion (do the models exhibit a particular cultural bias, according to your test?):** ...\n",
    "\n",
    "**2 possible variations of the test:**\n",
    "* Variation 1\n",
    "* Variation 2"
   ]
  },
  {
   "cell_type": "markdown",
   "metadata": {},
   "source": [
    "## Exercise 2 (20 points)\n",
    "\n",
    "The goal of this exercise is to become even more familiar with hands-on \"real\" RL fine-tuning -- we will look at training a summarization model with PPO. We will start with a GPT-2 instance which was already supervised fine-tuned for sumarization.\n",
    "Oftentimes, common algorithms are shipped within specialized libraries, so that you don't have to implement the complicated optimization math by yourself. When working on actual projects, such libraries are usually used. All that is required to get started is to try to understand how to correctly use the library and correctly apply it to your task.\n",
    "\n",
    "Therefore, your task here is to look at the code using the `trl` package for said fine-tuning below, **find and fix mistakes** and answer questions about parts of the code. Googling / research skills and critical thinking about unfamiliar code are required here! (think: you got some code from the programming assistant of your choice and now you need to double-check it before putting it into your customer-facing app)\n",
    "\n",
    "**Please indicate places where you corrected the code by inserting the comment `### FIXED MISTAKE ###` next / above it!**\n",
    "\n",
    "Note that you DON'T have to train the model or even execute the code, if you don't want to.\n",
    "\n",
    "#### Useful materials and hints:\n",
    "* see slides from session 4\n",
    "* [documentation and examples with the library `trl` that we are using here](https://huggingface.co/docs/trl/index)"
   ]
  },
  {
   "cell_type": "code",
   "execution_count": null,
   "metadata": {},
   "outputs": [],
   "source": [
    "import torch\n",
    "from tqdm import tqdm\n",
    "import pandas as pd\n",
    "\n",
    "from transformers import AutoTokenizer\n",
    "from datasets import load_dataset\n",
    "\n",
    "from trl import PPOTrainer, PPOConfig, AutoModelForCausalLMWithValueHead"
   ]
  },
  {
   "cell_type": "code",
   "execution_count": null,
   "metadata": {},
   "outputs": [],
   "source": [
    "config = PPOConfig(\n",
    "    model_name=\"gavin124/gpt2-finetuned-cnn-summarization-v2\",\n",
    "    steps = 1,\n",
    "    learning_rate=1.41e-5,\n",
    "    cliprange=1,\n",
    "    ppo_epochs=1,\n",
    "    batch_size=16,\n",
    ")"
   ]
  },
  {
   "cell_type": "code",
   "execution_count": null,
   "metadata": {},
   "outputs": [],
   "source": [
    "# create a data loader on our summarization dataset\n",
    "\n",
    "from datasets import Dataset\n",
    "\n",
    "def build_dataset(config, dataset_name=\"cnn_dailymail\", input_min_text_length=2, input_max_text_length=512):\n",
    "    \"\"\"\n",
    "    Build dataset for training. \n",
    "\n",
    "    Args:\n",
    "        dataset_name (`str`):\n",
    "            The name of the dataset to be loaded.\n",
    "\n",
    "    Returns:\n",
    "        dataloader (`torch.utils.data.DataLoader`):\n",
    "            The dataloader for the dataset.\n",
    "    \"\"\"\n",
    "    tokenizer = AutoTokenizer.from_pretrained(config.model_name)\n",
    "    tokenizer.pad_token = tokenizer.eos_token\n",
    "    # load CNN with datasets\n",
    "    ds = load_dataset(dataset_name, \"3.0.0\", cache_dir=\"data\", split=\"train\")\n",
    "    ds = ds.filter(lambda x: len(x[\"article\"]) > 2, batched=False)\n",
    "    ds = Dataset.from_dict(ds[:200])\n",
    "\n",
    "    def tokenize(sample):\n",
    "        sample[\"input_ids\"] = tokenizer.encode(\n",
    "            sample[\"article\"],\n",
    "            truncation=True,\n",
    "            padding='max_length',\n",
    "            max_length=input_max_text_length,\n",
    "            ) \n",
    "        sample[\"query\"] = tokenizer.decode(sample[\"input_ids\"])\n",
    "        return sample\n",
    "\n",
    "    ds_processed = ds.map(tokenize, batched=False)\n",
    "    ds_processed.set_format(type=\"torch\")\n",
    "\n",
    "    return ds_processed"
   ]
  },
  {
   "cell_type": "code",
   "execution_count": null,
   "metadata": {},
   "outputs": [],
   "source": [
    "dataset = build_dataset(config)\n",
    "\n",
    "train_posts_dict = {\n",
    "    q: s for q, s in list(zip(dataset['query'], dataset['highlights']))\n",
    "}\n",
    "\n",
    "def collator(data):\n",
    "    return dict((key, [d[key] for d in data]) for key in data[0])"
   ]
  },
  {
   "cell_type": "code",
   "execution_count": null,
   "metadata": {},
   "outputs": [],
   "source": [
    "model = AutoModelForCausalLMWithValueHead.from_pretrained(config.model_name)\n",
    "ref_model = AutoModelForCausalLMWithValueHead.from_pretrained(\"gpt2\")\n",
    "tokenizer = AutoTokenizer.from_pretrained(config.model_name, padding_side='left')\n",
    "\n",
    "tokenizer.pad_token = tokenizer.eos_token"
   ]
  },
  {
   "cell_type": "code",
   "execution_count": null,
   "metadata": {},
   "outputs": [],
   "source": [
    "ppo_trainer = PPOTrainer(\n",
    "    model=model,\n",
    "    config=config,\n",
    "    dataset=dataset,\n",
    "    tokenizer=tokenizer,\n",
    "    data_collator=collator,\n",
    "    ref_model=ref_model, \n",
    ")"
   ]
  },
  {
   "cell_type": "code",
   "execution_count": null,
   "metadata": {},
   "outputs": [],
   "source": [
    "# pip install evaluate rouge_score\n",
    "\n",
    "meteor = evaluate.load(\"meteor\")  \n",
    "\n",
    "def reward_fn(\n",
    "        output: list[str],\n",
    "        original_summary: list[str], \n",
    "        **kwargs\n",
    "    ):\n",
    "    \"\"\"\n",
    "    Function for applyting METEOR as reward (on predicted output and original summaries from dataset).\n",
    "    \"\"\"\n",
    "    scores = []\n",
    "    for o, s in list(zip(output, original_summary)):\n",
    "      score = meteor.compute(predictions=[o.strip()], references=[s])[\"rouge1\"]\n",
    "      scores.append(torch.tensor(score))\n",
    "      \n",
    "    return scores"
   ]
  },
  {
   "cell_type": "code",
   "execution_count": null,
   "metadata": {},
   "outputs": [],
   "source": [
    "device = ppo_trainer.accelerator.device\n",
    "if ppo_trainer.accelerator.num_processes == 1:\n",
    "    device = 0 if torch.cuda.is_available() else \"cpu\""
   ]
  },
  {
   "cell_type": "code",
   "execution_count": null,
   "metadata": {},
   "outputs": [],
   "source": [
    "generation_kwargs = {\n",
    "    \"min_length\": -1,\n",
    "    \"top_k\": 0.0,\n",
    "    \"top_p\": 0.1,\n",
    "    \"do_sample\": True,\n",
    "    \"pad_token_id\": tokenizer.eos_token_id,\n",
    "    \"max_new_tokens\": 2,\n",
    "}\n",
    "\n",
    "\n",
    "for epoch, batch in tqdm(enumerate(ppo_trainer.dataloader)):\n",
    "    query_tensors = batch[\"input_ids\"]\n",
    "\n",
    "    #### Get response from gpt2\n",
    "    response_tensors = []\n",
    "    for query in query_tensors:\n",
    "        response = ppo_trainer.generate(query, **generation_kwargs)\n",
    "        response_tensors.append(response.squeeze()[-generation_kwargs[\"max_new_tokens\"]:])\n",
    "    batch[\"response\"] = [tokenizer.decode(r.squeeze()) for r in response_tensors]\n",
    "\n",
    "    #### Compute sentiment score\n",
    "    original_summaries = [train_posts_dict[q] for q in batch[\"query\"]]\n",
    "    rewards = reward_fn(batch[\"query\"], batch[\"response\"])\n",
    "\n",
    "    #### Run PPO step\n",
    "    stats = ppo_trainer.step(query_tensors, response_tensors, rewards)\n",
    "    ppo_trainer.log_stats(stats, batch, rewards)"
   ]
  },
  {
   "cell_type": "markdown",
   "metadata": {},
   "source": [
    "#### Your response:\n",
    "\n",
    "Please enter the required code explanations below:\n",
    "\n",
    "* In max. three sentences, please explain what ROUGE is and how it works (conceptually):\n",
    "* Please name one reason why it is sensible to use ROUGE as a reward function, and one limitation of doing so:\n",
    "\n",
    "PPOConfig:\n",
    "* learning_rate:\n",
    "* cliprange:\n",
    "* ppo_epochs:"
   ]
  },
  {
   "cell_type": "markdown",
   "metadata": {},
   "source": [
    "## Exercise 3 (15 points)\n",
    "\n",
    "In this exercise, you will conceptualize an \"agent\" LLM! \n",
    "\n",
    "Specifically, inspired by the discussed library [`langchain`](https://python.langchain.com/docs/get_started/introduction), we will create the blueprint for a personal scheduling agent.\n",
    "\n",
    "Your task is to write a step-by-step guide / blueprint for an LLM based agent that will put all important appointments from your email to your Google Calendar, but will filter out spam appointments from emails from your former school. The agent should make sure there are no scheduling conflicts, and inform the user if there are conflicts. \n",
    "\n",
    "Your agent can be equipped with the following tools: interface to your email (accessing new incoming emails, writing emails), standard LLM calls to a model of your choice which will follow your prompts, access to your calendar (read and write).\n",
    "\n",
    "NOTE: you don't have to write the actual code, just a detailed step-by-step \"recipe\" with prompts describing what the agent would look like and what it would do to complete the task.\n",
    "Here is a minimal example description of an agent solving math homework that is uploaded as a pdf, where you can take inspiration in terms of structure of the answer for this task (for your answer for the scheduling agent, you are expected to actually spell out the ...!). \n",
    "The agent's available tools are: a pdf converter (to plain text), standard llm calls following prompts, a python shell.\n",
    "    * input -> pdf reader to text -> prompt to llm: \"Please extract all the calculus tasks from the following text and return them as a bullet point list.\" + input text -> iterate over list, for each element -> some prompt to LLM: ... -> python shell -> ...\n",
    "\n",
    "For inspiration, next to the slides, you can familiarize yourself with the relevant parts of the library in the docs referenced above. WARNING: note that at this point, the library offers quite diverse and complicated functionality; you are by no means expected to go through all of that. Try understand the basics to the extend that is needed for completing the tasks and answering the questions, while ignoring all the bells and whistles that go beyond the scope of this exercise."
   ]
  },
  {
   "cell_type": "markdown",
   "metadata": {},
   "source": [
    "Just as an example, to see how tools in this library work, you can execute the following cell to make a search on Wkipedia. Of course, you can feel free to try out other tools described in the docs. "
   ]
  },
  {
   "cell_type": "code",
   "execution_count": null,
   "metadata": {},
   "outputs": [],
   "source": [
    "#!pip install langchain wikipedia\n",
    "from langchain.tools import WikipediaQueryRun\n",
    "from langchain_community.utilities import WikipediaAPIWrapper\n",
    "\n",
    "wikipedia = WikipediaQueryRun(api_wrapper=WikipediaAPIWrapper())\n",
    "wikipedia.run(\"Hunter X Hunter\")"
   ]
  },
  {
   "cell_type": "markdown",
   "metadata": {},
   "source": [
    "##### Your response: \n",
    "\n",
    "* Please describe, step by step, how you would set up your agent to do the scheduling task for you: \n",
    "\n",
    "* Please brainstorm two advantages and two disadvantages of using LLM agents (in general, not necessarily for this specific task): \n",
    "  * advantages: \n",
    "  * disadvantages: "
   ]
  }
 ],
 "metadata": {
  "language_info": {
   "name": "python"
  }
 },
 "nbformat": 4,
 "nbformat_minor": 2
}
